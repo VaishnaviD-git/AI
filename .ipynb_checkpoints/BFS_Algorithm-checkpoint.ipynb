{
 "cells": [
  {
   "cell_type": "code",
   "execution_count": 3,
   "id": "1010b12c-25a6-43f4-af8f-3894ec009173",
   "metadata": {},
   "outputs": [],
   "source": [
    "from collections import deque"
   ]
  },
  {
   "cell_type": "code",
   "execution_count": 4,
   "id": "9f967504-e490-495f-9ec4-32cd07bb633c",
   "metadata": {},
   "outputs": [],
   "source": [
    "graph = {\n",
    "    'A' : ['B', 'C'],\n",
    "    'B' : ['D', 'E'],\n",
    "    'C' : ['F'],\n",
    "    'D' : [],\n",
    "    'E' : [],\n",
    "    'F' : [],\n",
    "}"
   ]
  },
  {
   "cell_type": "code",
   "execution_count": 5,
   "id": "5fef1da4-6bb9-4747-904f-3c270b06b743",
   "metadata": {},
   "outputs": [],
   "source": [
    "def bfs(graph, start_node):\n",
    "    visited = set()\n",
    "    queue = deque([start_node])\n",
    "    print(\"BFS Traversal Order:\")\n",
    "    while queue:\n",
    "        current_node = queue.popleft()\n",
    "\n",
    "        if current_node not in visited:\n",
    "            print(current_node, end=\" \")\n",
    "            visited.add(current_node)\n",
    "\n",
    "            for neighbor in graph[current_node]:\n",
    "                if neighbor not in visited:\n",
    "                    queue.append(neighbor)"
   ]
  },
  {
   "cell_type": "code",
   "execution_count": 6,
   "id": "d9741fc2-5a09-4773-85f5-b9a039229e3f",
   "metadata": {},
   "outputs": [
    {
     "name": "stdout",
     "output_type": "stream",
     "text": [
      "BFS Traversal Order:\n",
      "A B C D E F "
     ]
    }
   ],
   "source": [
    "bfs(graph, 'A')"
   ]
  },
  {
   "cell_type": "code",
   "execution_count": null,
   "id": "f5eaaadc-9d90-4421-a780-27e7f621bbe0",
   "metadata": {},
   "outputs": [],
   "source": []
  }
 ],
 "metadata": {
  "kernelspec": {
   "display_name": "Python 3 (ipykernel)",
   "language": "python",
   "name": "python3"
  },
  "language_info": {
   "codemirror_mode": {
    "name": "ipython",
    "version": 3
   },
   "file_extension": ".py",
   "mimetype": "text/x-python",
   "name": "python",
   "nbconvert_exporter": "python",
   "pygments_lexer": "ipython3",
   "version": "3.13.3"
  }
 },
 "nbformat": 4,
 "nbformat_minor": 5
}
