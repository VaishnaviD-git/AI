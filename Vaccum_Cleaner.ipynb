{
 "cells": [
  {
   "cell_type": "code",
   "execution_count": 1,
   "id": "dd428560-f182-4809-a8a6-6d13860aec69",
   "metadata": {},
   "outputs": [],
   "source": [
    "import random"
   ]
  },
  {
   "cell_type": "code",
   "execution_count": 2,
   "id": "064690f8-f254-4163-9390-d48bb86e70a9",
   "metadata": {},
   "outputs": [],
   "source": [
    "def display(room):\n",
    "    print(room)"
   ]
  },
  {
   "cell_type": "code",
   "execution_count": 3,
   "id": "412b3c86-2b65-436c-afe4-bd70d001a6e6",
   "metadata": {},
   "outputs": [],
   "source": [
    "room = [[1,1,1,1],\n",
    "        [1,1,1,1],\n",
    "        [1,1,1,1],\n",
    "        [1,1,1,1]]"
   ]
  },
  {
   "cell_type": "code",
   "execution_count": 4,
   "id": "a4b7740c-6fd7-4e0e-a47a-c4015fa79962",
   "metadata": {},
   "outputs": [
    {
     "name": "stdout",
     "output_type": "stream",
     "text": [
      "All the rooms are dirty\n",
      "[[1, 1, 1, 1], [1, 1, 1, 1], [1, 1, 1, 1], [1, 1, 1, 1]]\n"
     ]
    }
   ],
   "source": [
    "print(\"All the rooms are dirty\")\n",
    "display(room)"
   ]
  },
  {
   "cell_type": "code",
   "execution_count": 5,
   "id": "7214a0f7-39f0-48a5-9610-70e1b21ce127",
   "metadata": {},
   "outputs": [],
   "source": [
    "x = 0\n",
    "y = 0"
   ]
  },
  {
   "cell_type": "code",
   "execution_count": 6,
   "id": "cbdf4601-6de6-44ce-9b3e-e22ffab2df20",
   "metadata": {},
   "outputs": [],
   "source": [
    "while x < 4:\n",
    "    while y < 4:\n",
    "        room[x][y] = random.choice([0,1])\n",
    "        y += 1\n",
    "    x += 1\n",
    "    y = 0"
   ]
  },
  {
   "cell_type": "code",
   "execution_count": 7,
   "id": "6da10f1c-9a92-4fae-bbc4-945027ef98da",
   "metadata": {},
   "outputs": [
    {
     "name": "stdout",
     "output_type": "stream",
     "text": [
      "Before cleaning the room, I detect all these random dirts\n",
      "[[0, 1, 0, 0], [1, 1, 1, 0], [0, 0, 0, 1], [0, 1, 1, 0]]\n"
     ]
    }
   ],
   "source": [
    "print(\"Before cleaning the room, I detect all these random dirts\")\n",
    "display(room)"
   ]
  },
  {
   "cell_type": "code",
   "execution_count": 8,
   "id": "a9b551e2-2313-400d-9c15-0f6147d520fa",
   "metadata": {},
   "outputs": [],
   "source": [
    "x = 0\n",
    "y = 0\n",
    "z = 0"
   ]
  },
  {
   "cell_type": "code",
   "execution_count": 9,
   "id": "9851ecf5-c7af-4b4e-aee6-68f67728c037",
   "metadata": {},
   "outputs": [
    {
     "name": "stdout",
     "output_type": "stream",
     "text": [
      "Vaccum in this location now: 0 1\n",
      "Cleaned: 0 1\n",
      "Vaccum in this location now: 1 0\n",
      "Cleaned: 1 0\n",
      "Vaccum in this location now: 1 1\n",
      "Cleaned: 1 1\n",
      "Vaccum in this location now: 1 2\n",
      "Cleaned: 1 2\n",
      "Vaccum in this location now: 2 3\n",
      "Cleaned: 2 3\n",
      "Vaccum in this location now: 3 1\n",
      "Cleaned: 3 1\n",
      "Vaccum in this location now: 3 2\n",
      "Cleaned: 3 2\n"
     ]
    }
   ],
   "source": [
    "while x < 4:\n",
    "    while y < 4:\n",
    "        if room[x][y] == 1:\n",
    "            print(\"Vaccum in this location now:\",x,y)\n",
    "            room[x][y] = 0\n",
    "            print(\"Cleaned:\",x, y)\n",
    "            z += 1\n",
    "        y += 1\n",
    "    x += 1\n",
    "    y = 0"
   ]
  },
  {
   "cell_type": "code",
   "execution_count": 10,
   "id": "45466e75-3b4f-4df7-a260-490dadd0cba7",
   "metadata": {},
   "outputs": [
    {
     "name": "stdout",
     "output_type": "stream",
     "text": [
      "Room is clean now. Thanks for using the Robot Vacuum Cleaner!\n",
      "[[0, 0, 0, 0], [0, 0, 0, 0], [0, 0, 0, 0], [0, 0, 0, 0]]\n",
      "Performance= 56.25 %\n"
     ]
    }
   ],
   "source": [
    "performance = (100 - ((z / 16)*100))\n",
    "print(\"Room is clean now. Thanks for using the Robot Vacuum Cleaner!\")\n",
    "display(room)\n",
    "print('Performance=', performance, '%')"
   ]
  },
  {
   "cell_type": "code",
   "execution_count": null,
   "id": "46e7425e-593b-49d6-8f4c-a54ba2c25d4f",
   "metadata": {},
   "outputs": [],
   "source": []
  }
 ],
 "metadata": {
  "kernelspec": {
   "display_name": "Python 3 (ipykernel)",
   "language": "python",
   "name": "python3"
  },
  "language_info": {
   "codemirror_mode": {
    "name": "ipython",
    "version": 3
   },
   "file_extension": ".py",
   "mimetype": "text/x-python",
   "name": "python",
   "nbconvert_exporter": "python",
   "pygments_lexer": "ipython3",
   "version": "3.13.3"
  }
 },
 "nbformat": 4,
 "nbformat_minor": 5
}
